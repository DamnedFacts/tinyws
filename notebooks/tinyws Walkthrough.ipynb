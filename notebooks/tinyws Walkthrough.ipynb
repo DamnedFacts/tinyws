{
 "cells": [
  {
   "cell_type": "markdown",
   "metadata": {},
   "source": [
    "In a fit of callous regard to good Python style, I wanted a way to declare a dictionary and reference it inside its own definition.\n",
    "\n",
    "http://stackoverflow.com/a/15988902"
   ]
  },
  {
   "cell_type": "code",
   "execution_count": null,
   "metadata": {
    "collapsed": false
   },
   "outputs": [],
   "source": [
    "# %load -s ParamDict tinyws.py\n",
    "class ParamDict(dict):\n",
    "    \"\"\"Dict subclass that allows self-referencing during init\n",
    "       From: http://stackoverflow.com/a/15988902\"\"\"\n",
    "    def __getitem__(self, key):\n",
    "        val = dict.__getitem__(self, key)\n",
    "        return val(self) if callable(val) else val\n"
   ]
  },
  {
   "cell_type": "code",
   "execution_count": null,
   "metadata": {
    "collapsed": true
   },
   "outputs": [],
   "source": [
    "# %load -s masking tinyws.py\n",
    "def masking(has_mask, key, payload, payload_len):\n",
    "    \"\"\"Mask/Unmask WebSocket payload data\"\"\"\n",
    "    payload = (payload.to_bytes(payload_len, byteorder=\"big\")\n",
    "               if isinstance(payload, int) else payload)\n",
    "    if has_mask:\n",
    "        key = key.to_bytes(4, byteorder=\"big\")\n",
    "        unmasked_data = [payload[i] ^ key[i % 4] for i in range(len(payload))]\n",
    "        return bytearray(unmasked_data)\n",
    "    return payload\n"
   ]
  },
  {
   "cell_type": "markdown",
   "metadata": {
    "slideshow": {
     "slide_type": "slide"
    }
   },
   "source": [
    "## Test (Extract) Subset of Bits From an Int\n",
    "\n",
    "Say you have a number `n`, and want bits from `i` to `j` (`i=5`, `j=10`). Note, that `i=0` will give you the last bit.\n",
    "\n",
    "This statement:\n",
    "\n",
    "    int value = n & (((1 << (j-i)) - 1) << i );\n",
    "\n",
    "will give you the result.\n",
    "\n",
    "The left part is obvious: you have a value, and you will put a bitmask on it.\n",
    "\n",
    "The value of the mask is `((1 << (j-i)) - 1) << i`. It says:\n",
    "\n",
    "   * Take a `1` bit (value: `0000000000000001`)\n",
    "   * Shift it left `j-i` times (value: `2^(10-5) = 2^5 = 32 = 0000000000100000`)\n",
    "   * Deduct `1` (value: `31 = 0000000000011111`) - have you seen the lowest bits reversed?\n",
    "   * Shift it left `i` times (value: `31*32=992 = 0000001111100000`)\n",
    "\n",
    "So, you have got the bitmask for bits `5` - `10` (more precisely, from `5` to `9`, since 10th is not included).\n",
    "\n",
    "Reference: http://stackoverflow.com/a/16001970"
   ]
  },
  {
   "cell_type": "code",
   "execution_count": null,
   "metadata": {
    "collapsed": false,
    "slideshow": {
     "slide_type": "subslide"
    }
   },
   "outputs": [],
   "source": [
    "# %load -s test_bits tinyws.py\n",
    "def test_bits(data, bits, offset):\n",
    "    \"\"\"Test bits in an int\n",
    "       Python's expanding & shrinking ints truncates the most significant bits\n",
    "       if they are zero, so we calculate what may be missing before testing.\"\"\"\n",
    "    bit_len = data.bit_length() +  (bits - data.bit_length())\n",
    "    if isinstance(offset, range):\n",
    "        offset_start = bit_len - offset.start\n",
    "        offset = bit_len - offset.stop\n",
    "        mask = ((1 << (offset_start - offset)) - 1) << offset\n",
    "    else:\n",
    "        offset = (bit_len - 1) - offset\n",
    "        mask = 1 << offset\n",
    "    return (data & mask) >> offset\n"
   ]
  },
  {
   "cell_type": "code",
   "execution_count": null,
   "metadata": {
    "collapsed": false
   },
   "outputs": [],
   "source": [
    "# %load -s bitlist2bytes tinyws.py\n",
    "def bitlist2bytes(bitlist, byteorder=\"little\"):\n",
    "    \"\"\"Bit field list to Bytes/ByteArray \"\"\"\n",
    "    if byteorder in [\"big\", \"network\"]:  # Byte swap the generated int <- bits\n",
    "        return bytearray([int(\"\".join([\"%d\" % j for j in bitlist[i:i + 8]]), 2)\n",
    "                          for i in range(len(bitlist)-1, -1, -1) if i%8 == 0])\n",
    "    else:\n",
    "        return bytearray([int(\"\".join([\"%d\" % j for j in bitlist[i:i + 8]]), 2)\n",
    "                          for i in range(len(bitlist)) if i % 8 == 0])\n"
   ]
  },
  {
   "cell_type": "code",
   "execution_count": null,
   "metadata": {
    "collapsed": false
   },
   "outputs": [],
   "source": [
    "# %load -s bytes2bitlist tinyws.py\n",
    "def bytes2bitlist(data):\n",
    "    \"\"\"Bytes/ByteArray to bit field list\"\"\"\n",
    "    return [1 if data[i//8]&1 << (7-i) % 8 else 0 for i in range(len(data)*8)]\n"
   ]
  },
  {
   "cell_type": "code",
   "execution_count": null,
   "metadata": {
    "collapsed": false
   },
   "outputs": [],
   "source": [
    "# %load -s bitlist2int tinyws.py\n",
    "def bitlist2int(bits, byteorder=\"little\"):\n",
    "    \"\"\"Convert bit field list to an integer\"\"\"\n",
    "    if byteorder in [\"big\", \"network\"]:  # Byte swap the generated int <- bits\n",
    "        return int(''.join([\"%d\"%j for i in range(len(bits)-1, -1, -1)\n",
    "                            if (i+1)%8 == 0\n",
    "                            for j in bits[i:i-8 if i-8 > 0 else None:-1]]), 2)\n",
    "    else:\n",
    "        return int(''.join([\"%d\"%i for i in bits]), 2)\n"
   ]
  },
  {
   "cell_type": "code",
   "execution_count": 8,
   "metadata": {
    "collapsed": false
   },
   "outputs": [
    {
     "name": "stdout",
     "output_type": "stream",
     "text": [
      "98\n",
      "0b100000011000011010111011101001101111000110010111110111011100100110011110111101011101101011010100\n",
      "48038\n"
     ]
    }
   ],
   "source": [
    "b = b'\\x81\\x86\\xbb\\xa6\\xf1\\x97\\xdd\\xc9\\x9e\\xf5\\xda\\xd4'\n",
    "#b = b'\\x81\\xfe\\x00~w\\x91\\xdbJG\\xa1\\xebzG\\xa1\\xebzG\\xa1\\xebzG\\xa1\\xebzG\\xa1\\xebzG\\xa1\\xebzG\\xa1\\xebzG\\xa1\\xebzG\\xa1\\xebzG\\xa1\\xebzG\\xa1\\xebzG\\xa1\\xebzG\\xa1\\xebzG\\xa1\\xebzG\\xa1\\xebzG\\xa1\\xebzG\\xa1\\xebzG\\xa1\\xebzG\\xa1\\xebzG\\xa1\\xebzG\\xa1\\xebzG\\xa1\\xebzG\\xa1\\xebzG\\xa1\\xebzG\\xa1\\xebzG\\xa1\\xebzG\\xa1\\xebzG\\xa1\\xebzG\\xa1\\xebzG\\xa1\\xebzG\\xa1\\xebzG\\xa1'\n",
    "#b'\\x81\\xfe\\x00~w\\x91\\xdbJG\\xa1\\xebzG\\xa1\\xebzG\\xa1\\xebzG\\xa1\\xebzG\\xa1\\xebzG\\xa1\\xebzG\\xa1\\xebzG\\xa1\\xebzG\\xa1\\xebzG\\xa1\\xebzG\\xa1\\xebzG\\xa1\\xebzG\\xa1\\xebzG\\xa1\\xebzG\\xa1\\xebzG\\xa1\\xebzG\\xa1\\xebzG\\xa1\\xebzG\\xa1\\xebzG\\xa1\\xebzG\\xa1\\xebzG\\xa1\\xebzG\\xa1\\xebzG\\xa1\\xebzG\\xa1\\xebzG\\xa1\\xebzG\\xa1\\xebzG\\xa1\\xebzG\\xa1\\xebzG\\xa1\\xebzG\\xa1\\xebzG\\xa1'\n",
    "data = int.from_bytes(b, byteorder=\"big\")\n",
    "bits = len(b) * 8\n",
    "print(len(bin(data)))\n",
    "print(bin(data))\n",
    "#print(bytes2bitlist(b))\n",
    "print(test_bits(data, bits, range(16, 32)))"
   ]
  },
  {
   "cell_type": "code",
   "execution_count": 9,
   "metadata": {
    "collapsed": false
   },
   "outputs": [
    {
     "data": {
      "text/plain": [
       "'0b1'"
      ]
     },
     "execution_count": 9,
     "metadata": {},
     "output_type": "execute_result"
    }
   ],
   "source": [
    "bin(test_bits(data, bits, 8))"
   ]
  },
  {
   "cell_type": "code",
   "execution_count": 17,
   "metadata": {
    "collapsed": false
   },
   "outputs": [
    {
     "ename": "ValueError",
     "evalue": "negative shift count",
     "output_type": "error",
     "traceback": [
      "\u001b[0;31m---------------------------------------------------------------------------\u001b[0m",
      "\u001b[0;31mValueError\u001b[0m                                Traceback (most recent call last)",
      "\u001b[0;32m<ipython-input-17-d9f308d632ea>\u001b[0m in \u001b[0;36m<module>\u001b[0;34m()\u001b[0m\n\u001b[0;32m----> 1\u001b[0;31m \u001b[0mbin\u001b[0m\u001b[0;34m(\u001b[0m\u001b[0mtest_bits\u001b[0m\u001b[0;34m(\u001b[0m\u001b[0mdata\u001b[0m\u001b[0;34m,\u001b[0m \u001b[0mbits\u001b[0m\u001b[0;34m,\u001b[0m \u001b[0mrange\u001b[0m\u001b[0;34m(\u001b[0m\u001b[0;36m0\u001b[0m\u001b[0;34m,\u001b[0m\u001b[0;36m128\u001b[0m\u001b[0;34m)\u001b[0m\u001b[0;34m)\u001b[0m\u001b[0;34m)\u001b[0m\u001b[0;34m\u001b[0m\u001b[0m\n\u001b[0m",
      "\u001b[0;32m<ipython-input-4-989508fc0ef2>\u001b[0m in \u001b[0;36mtest_bits\u001b[0;34m(data, bits, offset)\u001b[0m\n\u001b[1;32m      8\u001b[0m         \u001b[0moffset_start\u001b[0m \u001b[0;34m=\u001b[0m \u001b[0mbit_len\u001b[0m \u001b[0;34m-\u001b[0m \u001b[0moffset\u001b[0m\u001b[0;34m.\u001b[0m\u001b[0mstart\u001b[0m\u001b[0;34m\u001b[0m\u001b[0m\n\u001b[1;32m      9\u001b[0m         \u001b[0moffset\u001b[0m \u001b[0;34m=\u001b[0m \u001b[0mbit_len\u001b[0m \u001b[0;34m-\u001b[0m \u001b[0moffset\u001b[0m\u001b[0;34m.\u001b[0m\u001b[0mstop\u001b[0m\u001b[0;34m\u001b[0m\u001b[0m\n\u001b[0;32m---> 10\u001b[0;31m         \u001b[0mmask\u001b[0m \u001b[0;34m=\u001b[0m \u001b[0;34m(\u001b[0m\u001b[0;34m(\u001b[0m\u001b[0;36m1\u001b[0m \u001b[0;34m<<\u001b[0m \u001b[0;34m(\u001b[0m\u001b[0moffset_start\u001b[0m \u001b[0;34m-\u001b[0m \u001b[0moffset\u001b[0m\u001b[0;34m)\u001b[0m\u001b[0;34m)\u001b[0m \u001b[0;34m-\u001b[0m \u001b[0;36m1\u001b[0m\u001b[0;34m)\u001b[0m \u001b[0;34m<<\u001b[0m \u001b[0moffset\u001b[0m\u001b[0;34m\u001b[0m\u001b[0m\n\u001b[0m\u001b[1;32m     11\u001b[0m     \u001b[0;32melse\u001b[0m\u001b[0;34m:\u001b[0m\u001b[0;34m\u001b[0m\u001b[0m\n\u001b[1;32m     12\u001b[0m         \u001b[0moffset\u001b[0m \u001b[0;34m=\u001b[0m \u001b[0;34m(\u001b[0m\u001b[0mbit_len\u001b[0m \u001b[0;34m-\u001b[0m \u001b[0;36m1\u001b[0m\u001b[0;34m)\u001b[0m \u001b[0;34m-\u001b[0m \u001b[0moffset\u001b[0m\u001b[0;34m\u001b[0m\u001b[0m\n",
      "\u001b[0;31mValueError\u001b[0m: negative shift count"
     ]
    }
   ],
   "source": [
    "bin(test_bits(data, bits, range(0,128)))"
   ]
  },
  {
   "cell_type": "code",
   "execution_count": null,
   "metadata": {
    "collapsed": false
   },
   "outputs": [],
   "source": [
    "# %load -s parse_frame tinyws.py\n",
    "def parse_frame(data_bytes, get_payload_len=False):\n",
    "    \"\"\"Parse a raw frame bytes, retrieving frame fields, and returns a frame\"\"\"\n",
    "    data = int.from_bytes(data_bytes, byteorder=\"big\")\n",
    "    bits = len(data_bytes) * 8\n",
    "    frame = ParamDict(\n",
    "        {'fin':test_bits(data, bits, 0),\n",
    "         'rsv1':test_bits(data, bits, 1),\n",
    "         'rsv2':test_bits(data, bits, 2),\n",
    "         'rsv3':test_bits(data, bits, 3),\n",
    "         'opcode':test_bits(data, bits, range(4, 8)),\n",
    "         'mask':test_bits(data, bits, 8),\n",
    "         'payload_len':test_bits(data, bits, range(9, 16)),\n",
    "         'ext_payload_len':lambda self: (\n",
    "             test_bits(data, bits, range(16, 32)) if self['payload_len'] == 126 else\n",
    "             test_bits(data, bits, range(16, 80)) if self['payload_len'] == 127 else\n",
    "             0),  # len <= 125\n",
    "         'masking_key':lambda self: (\n",
    "             0 if not self['mask'] else\n",
    "             test_bits(data, bits, range(16, 48))  if self['payload_len'] <= 125 else\n",
    "             test_bits(data, bits, range(32, 64))  if self['payload_len'] == 126 else\n",
    "             test_bits(data, bits, range(80, 112))),  # len == 127\n",
    "         'ext_payload_off':lambda self: (\n",
    "             32 if self['payload_len'] == 126 else\n",
    "             80 if self['payload_len'] == 127 else\n",
    "             16), # len <= 125\n",
    "         'masking_key_off':lambda self: (self['ext_payload_off'] +\n",
    "                                         (32 * self['mask'])),\n",
    "         'payload_data_off':lambda self: self['masking_key_off'],\n",
    "         'payload_data':lambda self: (\n",
    "             b'' if get_payload_len else\n",
    "             masking(self['mask'], self['masking_key'],\n",
    "                     test_bits(data, bits,\n",
    "                               range(self['payload_data_off'],\n",
    "                                     self['payload_data_off'] +\n",
    "                                     self['payload_len']*8)),\n",
    "                     self['payload_len']) if self['payload_len'] <= 125 else\n",
    "             masking(self['mask'], self['masking_key'],\n",
    "                     test_bits(data, bits,\n",
    "                               range(self['payload_data_off'],\n",
    "                                     self['payload_data_off'] +\n",
    "                                     self['ext_payload_len']*8)),\n",
    "                     self['ext_payload_len'])),\n",
    "         'frame_len':(lambda self:\n",
    "                      self['payload_data_off'] + self['payload_len']*8\n",
    "                      if self['payload_len'] <= 125 else\n",
    "                      self['payload_data_off'] + self['ext_payload_len']*8)\n",
    "        })\n",
    "\n",
    "    return frame\n"
   ]
  },
  {
   "cell_type": "code",
   "execution_count": 12,
   "metadata": {
    "collapsed": false
   },
   "outputs": [],
   "source": [
    "frame = parse_frame(b)"
   ]
  },
  {
   "cell_type": "code",
   "execution_count": 13,
   "metadata": {
    "collapsed": false
   },
   "outputs": [],
   "source": [
    "# %load -s assemble_raw_frame tinyws.py\n",
    "def assemble_raw_frame(frame):\n",
    "    \"\"\"Take dict-like frame and bit-pack into bytes\"\"\"\n",
    "    payload_data = frame['payload_data']\n",
    "    payload_len = frame['payload_len']\n",
    "    ex_payload_len = frame['ext_payload_len']\n",
    "    masking_key = (frame['masking_key'].to_bytes(4, byteorder=\"big\")\n",
    "                   if frame['mask'] else [])\n",
    "\n",
    "    raw_frame = [frame['fin'], frame['rsv1'], frame['rsv2'], frame['rsv3']]\n",
    "    raw_frame += bytes2bitlist(bytes([frame['opcode']]))[4:]\n",
    "    raw_frame += [0]  # [frame['mask']]\n",
    "\n",
    "    raw_frame += bytes2bitlist(bytes([payload_len]))[1:]  # 7 bits for len\n",
    "    if payload_len == 126:\n",
    "        raw_frame += bytes2bitlist(ex_payload_len.to_bytes(2, byteorder=\"big\"))\n",
    "    elif payload_len == 127:\n",
    "        raw_frame += bytes2bitlist(ex_payload_len.to_bytes(8, byteorder=\"big\"))\n",
    "\n",
    "    #raw_frame += bytes2bitlist(masking_key)\n",
    "    raw_frame += bytes2bitlist(payload_data)\n",
    "\n",
    "    return bitlist2bytes(raw_frame)\n"
   ]
  },
  {
   "cell_type": "code",
   "execution_count": 14,
   "metadata": {
    "collapsed": false
   },
   "outputs": [
    {
     "name": "stdout",
     "output_type": "stream",
     "text": [
      "masking_key_off 48\n",
      "frame_len 96\n",
      "payload_len 6\n",
      "rsv2 0\n",
      "masking_key 3148280215\n",
      "payload_data_off 48\n",
      "ext_payload_off 16\n",
      "ext_payload_len 0\n",
      "mask 1\n",
      "rsv3 0\n",
      "opcode 1\n",
      "fin 1\n",
      "rsv1 0\n",
      "payload_data bytearray(b'foobar')\n",
      "\n",
      "masking_key_off 16\n",
      "frame_len 64\n",
      "payload_len 6\n",
      "rsv2 0\n",
      "masking_key 0\n",
      "payload_data_off 16\n",
      "ext_payload_off 16\n",
      "ext_payload_len 0\n",
      "mask 0\n",
      "rsv3 0\n",
      "opcode 1\n",
      "fin 1\n",
      "rsv1 0\n",
      "payload_data b'foobar'\n"
     ]
    }
   ],
   "source": [
    "for k in frame:\n",
    "    print(k, frame[k])\n",
    "    \n",
    "raw_frame = assemble_raw_frame(frame)\n",
    "#print(b, raw_frame, len(raw_frame))\n",
    "frame = parse_frame(raw_frame)\n",
    "print()\n",
    "for k in frame:\n",
    "    print(k, frame[k])\n",
    "\n",
    "\n",
    "\n",
    "#frame = parse_frame(b)\n",
    "#print(frame['payload_data'])"
   ]
  },
  {
   "cell_type": "code",
   "execution_count": 15,
   "metadata": {
    "collapsed": false
   },
   "outputs": [
    {
     "data": {
      "text/plain": [
       "[]"
      ]
     },
     "execution_count": 15,
     "metadata": {},
     "output_type": "execute_result"
    }
   ],
   "source": [
    "bytes2bitlist([])"
   ]
  },
  {
   "cell_type": "code",
   "execution_count": null,
   "metadata": {
    "collapsed": true
   },
   "outputs": [],
   "source": []
  }
 ],
 "metadata": {
  "celltoolbar": "Slideshow",
  "kernelspec": {
   "display_name": "Python 3",
   "language": "python",
   "name": "python3"
  },
  "language_info": {
   "codemirror_mode": {
    "name": "ipython",
    "version": 3
   },
   "file_extension": ".py",
   "mimetype": "text/x-python",
   "name": "python",
   "nbconvert_exporter": "python",
   "pygments_lexer": "ipython3",
   "version": "3.5.0"
  }
 },
 "nbformat": 4,
 "nbformat_minor": 0
}
