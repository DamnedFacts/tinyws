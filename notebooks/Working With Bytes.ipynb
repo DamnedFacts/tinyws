{
 "cells": [
  {
   "cell_type": "markdown",
   "metadata": {
    "slideshow": {
     "slide_type": "slide"
    }
   },
   "source": [
    "# Working With Bytes"
   ]
  },
  {
   "cell_type": "markdown",
   "metadata": {
    "slideshow": {
     "slide_type": "slide"
    }
   },
   "source": [
    "## Strings, Bytes and Unicode\n",
    "\n",
    "In Python 3, strings are all Unicode encoded by default. It isn't easy, or advisable to store raw byte-width values in a `str()` instance due to multi-byte encoding features."
   ]
  },
  {
   "cell_type": "code",
   "execution_count": 7,
   "metadata": {
    "collapsed": false,
    "slideshow": {
     "slide_type": "subslide"
    }
   },
   "outputs": [
    {
     "name": "stdout",
     "output_type": "stream",
     "text": [
      "ꀀΔabcd޴\n"
     ]
    },
    {
     "data": {
      "text/plain": [
       "b'\\xea\\x80\\x80\\xce\\x94abcd\\xde\\xb4'"
      ]
     },
     "execution_count": 7,
     "metadata": {},
     "output_type": "execute_result"
    }
   ],
   "source": [
    "# Add unicode characters\n",
    "u = chr(40960) + '\\u0394abcd' + chr(1972)\n",
    "print(u)\n",
    "\n",
    "u.encode('utf-8')"
   ]
  },
  {
   "cell_type": "markdown",
   "metadata": {
    "slideshow": {
     "slide_type": "subslide"
    }
   },
   "source": [
    "All that we need to worry about is that Unicode strings are not what we want to use for raw byte storage!"
   ]
  },
  {
   "cell_type": "markdown",
   "metadata": {
    "slideshow": {
     "slide_type": "slide"
    }
   },
   "source": [
    "## The `bytes()` Type\n",
    "\n",
    "*class* **`bytes`**([*source*[, *encoding*[, *errors*]]])\n",
    "\n",
    "A call to `bytes()` returns a new `bytes` object, which is an immutable sequence of integers in the range `0 <= x < 256`. `bytes` is an immutable version of `bytearray` (see below) – it has the same non-mutating methods and the same indexing and slicing behavior.\n",
    "\n",
    "Bytes objects can also be created with literals using the `b''` string prefix."
   ]
  },
  {
   "cell_type": "code",
   "execution_count": 27,
   "metadata": {
    "collapsed": false
   },
   "outputs": [
    {
     "name": "stdout",
     "output_type": "stream",
     "text": [
      "b'foobar'\n",
      "b'foobar\\xce\\x94'\n",
      "b'\\x00'\n",
      "b'\\x01\\x02\\x03'\n"
     ]
    }
   ],
   "source": [
    "a = bytes(\"foobar\".encode('utf-8'))\n",
    "print(a)\n",
    "\n",
    "b = bytes(\"foobar\\u0394\", 'utf-8')\n",
    "print(b)\n",
    "\n",
    "c = bytes(1)\n",
    "print(c)\n",
    "\n",
    "d = bytes([1,2,3])\n",
    "print(d)\n"
   ]
  },
  {
   "cell_type": "markdown",
   "metadata": {
    "slideshow": {
     "slide_type": "slide"
    }
   },
   "source": [
    "## The `bytearray()` Type\n",
    "\n",
    "*class* **`bytearray`**([*source*[, *encoding*[, *errors*]]])\n",
    "\n",
    "A call to `bytearray()` returns a new array of bytes. The bytearray class is a mutable sequence of integers in the range 0 <= x < 256. It has most of the usual methods of mutable sequences, as well as most methods that the `bytes` type has."
   ]
  },
  {
   "cell_type": "code",
   "execution_count": 28,
   "metadata": {
    "collapsed": false
   },
   "outputs": [
    {
     "name": "stdout",
     "output_type": "stream",
     "text": [
      "bytearray(b'foobar')\n",
      "bytearray(b'foobar\\xce\\x94')\n",
      "bytearray(b'\\x00')\n",
      "bytearray(b'\\x01\\x02\\x03')\n"
     ]
    }
   ],
   "source": [
    "a = bytearray(\"foobar\".encode('utf-8'))\n",
    "print(a)\n",
    "\n",
    "b = bytearray(\"foobar\\u0394\", 'utf-8')\n",
    "print(b)\n",
    "\n",
    "c = bytearray(1)\n",
    "print(c)\n",
    "\n",
    "d = bytearray([1,2,3])\n",
    "print(d)"
   ]
  },
  {
   "cell_type": "markdown",
   "metadata": {
    "slideshow": {
     "slide_type": "slide"
    }
   },
   "source": [
    "## Useful Functions\n",
    "\n",
    "In addition to the byte storage types available, there are utility functions in Python useful for byte and bit representations."
   ]
  },
  {
   "cell_type": "markdown",
   "metadata": {
    "slideshow": {
     "slide_type": "subslide"
    }
   },
   "source": [
    "### `bin(x)`\n",
    "\n",
    "Convert an integer number to a binary string. The result is a valid Python expression. If `x` is not a Python `int` object, it has to define an `__index__()` method that returns an integer.\n"
   ]
  },
  {
   "cell_type": "code",
   "execution_count": 29,
   "metadata": {
    "collapsed": false
   },
   "outputs": [
    {
     "data": {
      "text/plain": [
       "'0b1110'"
      ]
     },
     "execution_count": 29,
     "metadata": {},
     "output_type": "execute_result"
    }
   ],
   "source": [
    "bin(14)"
   ]
  },
  {
   "cell_type": "markdown",
   "metadata": {
    "slideshow": {
     "slide_type": "slide"
    }
   },
   "source": [
    "### *class* **int**(*x=0*)\n",
    "### *class* **int**(*x, base=10*)\n",
    "\n",
    "Return an integer object constructed from a number or string x, or return 0 if no arguments are given. If x is a number, return x.__int__(). For floating point numbers, this truncates towards zero."
   ]
  },
  {
   "cell_type": "markdown",
   "metadata": {
    "slideshow": {
     "slide_type": "subslide"
    }
   },
   "source": [
    "If `x` is not a number or if base is given, then `x` must be a string, bytes, or bytearray instance representing an integer literal in radix base."
   ]
  },
  {
   "cell_type": "markdown",
   "metadata": {
    "slideshow": {
     "slide_type": "subslide"
    }
   },
   "source": [
    "A base-`n` literal consists of the digits `0` to `n-1`, with `a` to `z` (or `A` to `Z`) having values `10` to `35`. The default base is `10`. The allowed values are `0` and `2`–`36`. Base-`2`, -`8`, and -`16` literals can be optionally prefixed with `0b/0B`, `0o/0O`, or `0x/0X`, as with integer literals in code."
   ]
  },
  {
   "cell_type": "markdown",
   "metadata": {
    "slideshow": {
     "slide_type": "subslide"
    }
   },
   "source": [
    "Base `0` means to interpret exactly as a code literal, so that the actual base is `2, 8, 10, or 16`, and so that `int('010', 0)` is not legal, while `int('010')` is, as well as `int('010', 8)`."
   ]
  },
  {
   "cell_type": "code",
   "execution_count": 33,
   "metadata": {
    "collapsed": false
   },
   "outputs": [
    {
     "name": "stdout",
     "output_type": "stream",
     "text": [
      "100101101\n",
      "301\n"
     ]
    }
   ],
   "source": [
    "i = int(\"100101101\")\n",
    "print(i)\n",
    "\n",
    "i = int(\"100101101\", 2)\n",
    "print(i)"
   ]
  }
 ],
 "metadata": {
  "celltoolbar": "Slideshow",
  "kernelspec": {
   "display_name": "Python 3",
   "language": "python",
   "name": "python3"
  },
  "language_info": {
   "codemirror_mode": {
    "name": "ipython",
    "version": 3
   },
   "file_extension": ".py",
   "mimetype": "text/x-python",
   "name": "python",
   "nbconvert_exporter": "python",
   "pygments_lexer": "ipython3",
   "version": "3.6.0"
  }
 },
 "nbformat": 4,
 "nbformat_minor": 0
}
