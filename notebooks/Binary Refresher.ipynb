{
 "cells": [
  {
   "cell_type": "markdown",
   "metadata": {},
   "source": [
    "# Binary Refresher"
   ]
  },
  {
   "cell_type": "markdown",
   "metadata": {
    "slideshow": {
     "slide_type": "slide"
    }
   },
   "source": [
    "### Binary Representation \n",
    "\n",
    "Bitwise Operators operate on numbers, but treating them as a collection of bits, rather than a single int value.\n",
    "\n",
    "* 0 is written as `0`\n",
    "* 1 is written as `1`\n",
    "* 2 is written as `10`\n",
    "* 3 is `11`\n",
    "* 4 is `100`\n",
    "* 5 is `101`\n",
    "* 1029 is `0b10000000101 == 2\\*\\*10 + 2\\*\\*2 + 2\\*\\*0 == 1024 + 4 + 1`"
   ]
  },
  {
   "cell_type": "code",
   "execution_count": 63,
   "metadata": {
    "collapsed": false,
    "slideshow": {
     "slide_type": "subslide"
    }
   },
   "outputs": [
    {
     "data": {
      "text/plain": [
       "'0'"
      ]
     },
     "execution_count": 63,
     "metadata": {},
     "output_type": "execute_result"
    }
   ],
   "source": [
    "bin(0)[2:]"
   ]
  },
  {
   "cell_type": "code",
   "execution_count": 64,
   "metadata": {
    "collapsed": false,
    "slideshow": {
     "slide_type": "subslide"
    }
   },
   "outputs": [
    {
     "data": {
      "text/plain": [
       "'1'"
      ]
     },
     "execution_count": 64,
     "metadata": {},
     "output_type": "execute_result"
    }
   ],
   "source": [
    "bin(1)[2:]"
   ]
  },
  {
   "cell_type": "code",
   "execution_count": 65,
   "metadata": {
    "collapsed": false,
    "slideshow": {
     "slide_type": "subslide"
    }
   },
   "outputs": [
    {
     "data": {
      "text/plain": [
       "'11'"
      ]
     },
     "execution_count": 65,
     "metadata": {},
     "output_type": "execute_result"
    }
   ],
   "source": [
    "bin(3)[2:]"
   ]
  },
  {
   "cell_type": "code",
   "execution_count": 66,
   "metadata": {
    "collapsed": false,
    "slideshow": {
     "slide_type": "subslide"
    }
   },
   "outputs": [
    {
     "data": {
      "text/plain": [
       "'100'"
      ]
     },
     "execution_count": 66,
     "metadata": {},
     "output_type": "execute_result"
    }
   ],
   "source": [
    "bin(4)[2:]"
   ]
  },
  {
   "cell_type": "code",
   "execution_count": 67,
   "metadata": {
    "collapsed": false,
    "slideshow": {
     "slide_type": "subslide"
    }
   },
   "outputs": [
    {
     "data": {
      "text/plain": [
       "'101'"
      ]
     },
     "execution_count": 67,
     "metadata": {},
     "output_type": "execute_result"
    }
   ],
   "source": [
    "bin(5)[2:]"
   ]
  },
  {
   "cell_type": "code",
   "execution_count": 68,
   "metadata": {
    "collapsed": false,
    "slideshow": {
     "slide_type": "subslide"
    }
   },
   "outputs": [
    {
     "data": {
      "text/plain": [
       "'10000000101'"
      ]
     },
     "execution_count": 68,
     "metadata": {},
     "output_type": "execute_result"
    }
   ],
   "source": [
    "bin(1029)[2:]"
   ]
  },
  {
   "cell_type": "code",
   "execution_count": 69,
   "metadata": {
    "collapsed": false,
    "slideshow": {
     "slide_type": "subslide"
    }
   },
   "outputs": [
    {
     "data": {
      "text/plain": [
       "True"
      ]
     },
     "execution_count": 69,
     "metadata": {},
     "output_type": "execute_result"
    }
   ],
   "source": [
    "0b10000000101 == 2**10 + 2**2 + 2**0 == 1024 + 4 + 1 "
   ]
  },
  {
   "cell_type": "markdown",
   "metadata": {
    "slideshow": {
     "slide_type": "slide"
    }
   },
   "source": [
    "### Left Bitwise Shift \n",
    "\n",
    "`x << y`\n",
    "\n",
    "Returns `x` with the bits shifted to the left by `y` places (and new bits on the right-hand-side are zeros). This is the same as multiplying \n",
    "`x * 2**y`. \n",
    "\n"
   ]
  },
  {
   "cell_type": "code",
   "execution_count": 70,
   "metadata": {
    "collapsed": false,
    "slideshow": {
     "slide_type": "fragment"
    }
   },
   "outputs": [
    {
     "name": "stdout",
     "output_type": "stream",
     "text": [
      "1029   0b10000000101\n",
      "4116 0b1000000010100\n"
     ]
    }
   ],
   "source": [
    "n = 1029\n",
    "print(n, \" \", bin(n))\n",
    "print(n<<2, bin(n<<2))"
   ]
  },
  {
   "cell_type": "markdown",
   "metadata": {
    "slideshow": {
     "slide_type": "slide"
    }
   },
   "source": [
    "### Right Bitwise Shift \n",
    "\n",
    "`x >> y`\n",
    "\n",
    "Returns x with the bits shifted to the right by y places. This is the same as `x//2**y`. \n",
    "    \n"
   ]
  },
  {
   "cell_type": "code",
   "execution_count": 71,
   "metadata": {
    "collapsed": false,
    "slideshow": {
     "slide_type": "fragment"
    }
   },
   "outputs": [
    {
     "name": "stdout",
     "output_type": "stream",
     "text": [
      "1029 0b10000000101\n",
      "257    0b100000001\n"
     ]
    }
   ],
   "source": [
    "n = 1029\n",
    "print(n, bin(n))\n",
    "print( n>>2, \"  \",bin(n>>2))"
   ]
  },
  {
   "cell_type": "markdown",
   "metadata": {
    "slideshow": {
     "slide_type": "slide"
    }
   },
   "source": [
    "### Bitwise AND\n",
    "\n",
    "x & y\n",
    "\n",
    "Does a \"bitwise and\". Each bit of the output is `1` if the corresponding bit of `x` AND of `y` is `1`, otherwise it's `0`."
   ]
  },
  {
   "cell_type": "code",
   "execution_count": 72,
   "metadata": {
    "collapsed": false,
    "slideshow": {
     "slide_type": "fragment"
    }
   },
   "outputs": [
    {
     "name": "stdout",
     "output_type": "stream",
     "text": [
      "0b10000000101 0b100 0b100 4\n"
     ]
    }
   ],
   "source": [
    "n = 1029\n",
    "print(bin(n), bin(n&0b00000000100), bin(n&4), n&0b00000000100)"
   ]
  },
  {
   "cell_type": "markdown",
   "metadata": {
    "slideshow": {
     "slide_type": "slide"
    }
   },
   "source": [
    "### Bitwise OR\n",
    "\n",
    "`x | y`\n",
    "\n",
    "Does a \"bitwise or\". Each bit of the output is `0` if the corresponding bit of `x` AND of `y` is `0`, otherwise it's `1`."
   ]
  },
  {
   "cell_type": "code",
   "execution_count": 73,
   "metadata": {
    "collapsed": false,
    "slideshow": {
     "slide_type": "fragment"
    }
   },
   "outputs": [
    {
     "name": "stdout",
     "output_type": "stream",
     "text": [
      "0b10000000101 0b10011000101 0b10011000101 1221\n"
     ]
    }
   ],
   "source": [
    "n = 1029\n",
    "print(bin(n), bin(n|0b00011000100), bin(n|196), n|0b00011000100)"
   ]
  },
  {
   "cell_type": "markdown",
   "metadata": {
    "slideshow": {
     "slide_type": "slide"
    }
   },
   "source": [
    "### Bitwise NOT\n",
    "\n",
    "`~ x`\n",
    "\n",
    "Returns the complement of `x`, the number you get by switching each `1` for a `0` and each `0` for a `1`. This is the same as `-x - 1`. "
   ]
  },
  {
   "cell_type": "code",
   "execution_count": 74,
   "metadata": {
    "collapsed": false,
    "slideshow": {
     "slide_type": "fragment"
    }
   },
   "outputs": [
    {
     "name": "stdout",
     "output_type": "stream",
     "text": [
      "0b10000000101 -0b10000000110 -1030\n"
     ]
    }
   ],
   "source": [
    "n = 1029\n",
    "print(bin(n), bin(~n),  ~n)"
   ]
  },
  {
   "cell_type": "markdown",
   "metadata": {
    "slideshow": {
     "slide_type": "slide"
    }
   },
   "source": [
    "### Bitwise XOR\n",
    "\n",
    "`x ^ y`\n",
    "\n",
    "Does a \"bitwise exclusive or\". Each bit of the output is the same as the corresponding bit in `x` if that bit in `y` is `0`, and it's the complement of the bit in `x` if that bit in `y` is `1`. "
   ]
  },
  {
   "cell_type": "code",
   "execution_count": 75,
   "metadata": {
    "collapsed": false,
    "slideshow": {
     "slide_type": "fragment"
    }
   },
   "outputs": [
    {
     "name": "stdout",
     "output_type": "stream",
     "text": [
      "0b10000000101 0b10001 0b10000010100 1044\n"
     ]
    }
   ],
   "source": [
    "n = 1029\n",
    "print(bin(n), bin(17), bin(n^17), n^17)"
   ]
  }
 ],
 "metadata": {
  "celltoolbar": "Slideshow",
  "kernelspec": {
   "display_name": "Python 3",
   "language": "python",
   "name": "python3"
  },
  "language_info": {
   "codemirror_mode": {
    "name": "ipython",
    "version": 3
   },
   "file_extension": ".py",
   "mimetype": "text/x-python",
   "name": "python",
   "nbconvert_exporter": "python",
   "pygments_lexer": "ipython3",
   "version": "3.6.0"
  }
 },
 "nbformat": 4,
 "nbformat_minor": 0
}
