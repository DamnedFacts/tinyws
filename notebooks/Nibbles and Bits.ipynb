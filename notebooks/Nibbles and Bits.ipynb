{
 "cells": [
  {
   "cell_type": "markdown",
   "metadata": {
    "slideshow": {
     "slide_type": "slide"
    }
   },
   "source": [
    "# Nibbles and Bits"
   ]
  },
  {
   "cell_type": "markdown",
   "metadata": {
    "slideshow": {
     "slide_type": "slide"
    }
   },
   "source": [
    "## Some tasks include:\n",
    "\n",
    "* Turn \"11011000111101...\" into bytes, (padded left or right, 0 or 1,) and vice versa.\n",
    "* Slice ranges of bits\n",
    "* Rotate bits, addressed by the bit. That is, say: \"rotate bits 13-17, wrapping around the edges,\" or, \"rotate bits 13-17, lose bits on the one side, set all new bits to 0.\"\n",
    "* Similarly, revert regions of bits, apply logic to regions of bits, etc.,.\n",
    "* Switch Endianness, with different block sizes.\n",
    "* Apply operations in block groupings: ex: apply XOR 10101 (5 bits) repeatedly across a field. "
   ]
  },
  {
   "cell_type": "markdown",
   "metadata": {
    "slideshow": {
     "slide_type": "slide"
    }
   },
   "source": [
    "### Convert bits to an integer:"
   ]
  },
  {
   "cell_type": "code",
   "execution_count": 44,
   "metadata": {
    "collapsed": false,
    "slideshow": {
     "slide_type": "subslide"
    }
   },
   "outputs": [
    {
     "data": {
      "text/plain": [
       "33"
      ]
     },
     "execution_count": 44,
     "metadata": {},
     "output_type": "execute_result"
    }
   ],
   "source": [
    "int('00100001', 2)"
   ]
  },
  {
   "cell_type": "markdown",
   "metadata": {
    "slideshow": {
     "slide_type": "slide"
    }
   },
   "source": [
    "### To Hex String"
   ]
  },
  {
   "cell_type": "code",
   "execution_count": 45,
   "metadata": {
    "collapsed": false,
    "slideshow": {
     "slide_type": "subslide"
    }
   },
   "outputs": [
    {
     "name": "stdout",
     "output_type": "stream",
     "text": [
      "0xff\n",
      "0xaeb3ab57d55\n",
      "0xff\n",
      "0xaeb3ab57d55\n"
     ]
    }
   ],
   "source": [
    "print(\"0x{0:x}\".format(int('11111111', 2)))\n",
    "print(\"0x{0:x}\".format(int('0010101110101100111010101101010111110101010101', 2)))\n",
    "\n",
    "print(hex(int('11111111', 2)))\n",
    "print(hex(int('0010101110101100111010101101010111110101010101', 2)))"
   ]
  },
  {
   "cell_type": "markdown",
   "metadata": {
    "slideshow": {
     "slide_type": "slide"
    }
   },
   "source": [
    "### To Characters, Bytes"
   ]
  },
  {
   "cell_type": "code",
   "execution_count": 46,
   "metadata": {
    "collapsed": false,
    "slideshow": {
     "slide_type": "subslide"
    }
   },
   "outputs": [
    {
     "name": "stdout",
     "output_type": "stream",
     "text": [
      ";\n",
      "v\n",
      "í\n",
      "b'\\xed'\n"
     ]
    }
   ],
   "source": [
    "print(chr(int('111011', 2)))\n",
    "print(chr(int('1110110', 2)))\n",
    "print(chr(int('11101101', 2)))\n",
    "print(bytes([int('11101101', 2)]))"
   ]
  },
  {
   "cell_type": "markdown",
   "metadata": {
    "slideshow": {
     "slide_type": "slide"
    }
   },
   "source": [
    "### Shift Individiual Bits"
   ]
  },
  {
   "cell_type": "code",
   "execution_count": 47,
   "metadata": {
    "collapsed": false,
    "slideshow": {
     "slide_type": "subslide"
    }
   },
   "outputs": [
    {
     "name": "stdout",
     "output_type": "stream",
     "text": [
      "0b1\n",
      "0 1\n",
      "1 2\n",
      "2 4\n",
      "3 8\n",
      "4 16\n",
      "5 32\n",
      "6 64\n",
      "7 128\n",
      "128 128\n",
      "\n",
      "0b101101\n",
      "0 45\n",
      "1 90\n",
      "2 180\n",
      "3 360\n",
      "4 720\n",
      "5 1440\n",
      "6 2880\n",
      "7 5760\n"
     ]
    }
   ],
   "source": [
    "n = 1\n",
    "print(bin(n))\n",
    "for i in range(8):\n",
    "    print(i, n << i)\n",
    "\n",
    "print(2**7, n << 7)\n",
    "\n",
    "print()\n",
    "\n",
    "n = 45\n",
    "print(bin(n))\n",
    "for i in range(8):\n",
    "    print(i, n << i)"
   ]
  },
  {
   "cell_type": "markdown",
   "metadata": {
    "slideshow": {
     "slide_type": "slide"
    }
   },
   "source": [
    "### `testBit()` \n",
    "\n",
    "returns a nonzero result, `2**offset`, if the bit at `offset` is one.\n"
   ]
  },
  {
   "cell_type": "code",
   "execution_count": 48,
   "metadata": {
    "collapsed": true,
    "slideshow": {
     "slide_type": "subslide"
    }
   },
   "outputs": [],
   "source": [
    "def testBit(int_type, offset):\n",
    "    mask = 1 << offset\n",
    "    return(int_type & mask)"
   ]
  },
  {
   "cell_type": "markdown",
   "metadata": {
    "slideshow": {
     "slide_type": "slide"
    }
   },
   "source": [
    "### `setBit()`\n",
    "\n",
    "returns an integer with the bit at `offset` set to `1`.\n"
   ]
  },
  {
   "cell_type": "code",
   "execution_count": 49,
   "metadata": {
    "collapsed": true,
    "slideshow": {
     "slide_type": "subslide"
    }
   },
   "outputs": [],
   "source": [
    "def setBit(int_type, offset):\n",
    "    mask = 1 << offset\n",
    "    return(int_type | mask)"
   ]
  },
  {
   "cell_type": "markdown",
   "metadata": {
    "slideshow": {
     "slide_type": "slide"
    }
   },
   "source": [
    "### `clearBit() `\n",
    "\n",
    "returns an integer with the bit at `offset` cleared.\n"
   ]
  },
  {
   "cell_type": "code",
   "execution_count": 50,
   "metadata": {
    "collapsed": true,
    "slideshow": {
     "slide_type": "subslide"
    }
   },
   "outputs": [],
   "source": [
    "def clearBit(int_type, offset):\n",
    "    mask = ~(1 << offset)\n",
    "    return(int_type & mask)"
   ]
  },
  {
   "cell_type": "markdown",
   "metadata": {
    "slideshow": {
     "slide_type": "slide"
    }
   },
   "source": [
    "### `toggleBit()`\n",
    "\n",
    "returns an integer with the bit at `offset` inverted, `0` -> `1` and `1` -> `0`.\n"
   ]
  },
  {
   "cell_type": "code",
   "execution_count": 51,
   "metadata": {
    "collapsed": true,
    "slideshow": {
     "slide_type": "subslide"
    }
   },
   "outputs": [],
   "source": [
    "def toggleBit(int_type, offset):\n",
    "    mask = 1 << offset\n",
    "    return(int_type ^ mask)"
   ]
  },
  {
   "cell_type": "markdown",
   "metadata": {
    "slideshow": {
     "slide_type": "slide"
    }
   },
   "source": [
    "### Bit Length of a Python Integer\n",
    "`bit_len()` counts the actual bit length of a Python integer, that is, the number of the highest non-zero bit plus `1`. Zero, with no non-zero bit, returns `0`."
   ]
  },
  {
   "cell_type": "code",
   "execution_count": 60,
   "metadata": {
    "collapsed": false,
    "slideshow": {
     "slide_type": "subslide"
    }
   },
   "outputs": [
    {
     "name": "stdout",
     "output_type": "stream",
     "text": [
      "0 0\n",
      "1 1\n",
      "2 2\n",
      "2 2\n",
      "3 3\n",
      "3 3\n",
      "3 3\n",
      "3 3\n",
      "4 4\n",
      "4 4\n",
      "4 4\n",
      "4 4\n",
      "4 4\n",
      "4 4\n",
      "4 4\n",
      "4 4\n",
      "5 5\n"
     ]
    }
   ],
   "source": [
    "def bit_len(int_type):\n",
    "    length = 0\n",
    "    while (int_type):\n",
    "        int_type >>= 1\n",
    "        length += 1\n",
    "    return(length)\n",
    "\n",
    "for i in range(17):\n",
    "     print(bit_len(i), i.bit_length())"
   ]
  },
  {
   "cell_type": "markdown",
   "metadata": {
    "slideshow": {
     "slide_type": "slide"
    }
   },
   "source": [
    "### Bit Count of a Python Integer\n",
    "\n",
    "In common usage, the \"bit count\" of an integer is the number of set (`1`) bits, not the bit length of the integer described above. bit_len() can be modified to also provide the count of the number of set bits in the integer. There are faster methods to get the count below. "
   ]
  },
  {
   "cell_type": "code",
   "execution_count": 58,
   "metadata": {
    "collapsed": false,
    "slideshow": {
     "slide_type": "subslide"
    }
   },
   "outputs": [
    {
     "name": "stdout",
     "output_type": "stream",
     "text": [
      "1 0b1\n",
      "3 0b1011\n"
     ]
    }
   ],
   "source": [
    "def bit_count(int_type):\n",
    "    count = 0\n",
    "    while(int_type):\n",
    "        int_type &= int_type - 1\n",
    "        count += 1\n",
    "    return(count)\n",
    "\n",
    "print(bit_count(1), bin(1))\n",
    "print(bit_count(11), bin(11))\n"
   ]
  },
  {
   "cell_type": "markdown",
   "metadata": {
    "slideshow": {
     "slide_type": "slide"
    }
   },
   "source": [
    "### Bit fields, e.g. for communication protocols\n",
    "If you need to interpret individual bits in some data, e.g. a byte stream in a communications protocol, you can use the ctypes module. "
   ]
  },
  {
   "cell_type": "code",
   "execution_count": 52,
   "metadata": {
    "collapsed": false,
    "slideshow": {
     "slide_type": "subslide"
    }
   },
   "outputs": [
    {
     "name": "stdout",
     "output_type": "stream",
     "text": [
      "logout: 0\n",
      "logout: 0\n",
      "userswitch:  1\n",
      "suspend   :  0\n",
      "idle  : 0\n"
     ]
    }
   ],
   "source": [
    "import ctypes\n",
    "c_uint8 = ctypes.c_uint8\n",
    "\n",
    "class Flags_bits( ctypes.LittleEndianStructure ):\n",
    "    _fields_ = [\n",
    "                (\"logout\",     c_uint8, 1 ),  # asByte & 1\n",
    "                (\"userswitch\", c_uint8, 1 ),  # asByte & 2\n",
    "                (\"suspend\",    c_uint8, 1 ),  # asByte & 4\n",
    "                (\"idle\",       c_uint8, 1 ),  # asByte & 8\n",
    "               ]\n",
    "\n",
    "class Flags( ctypes.Union ):\n",
    "    _anonymous_ = (\"bit\",)\n",
    "    _fields_ = [\n",
    "                (\"bit\",    Flags_bits ),\n",
    "                (\"asByte\", c_uint8    )\n",
    "               ]\n",
    "\n",
    "flags = Flags()\n",
    "flags.asByte = 0x2  # ->0010\n",
    "\n",
    "print( \"logout: %i\"      % flags.bit.logout   )\n",
    "# `bit` is defined as anonymous field, so its fields can also be accessed directly:\n",
    "print( \"logout: %i\"      % flags.logout     )\n",
    "print( \"userswitch:  %i\" % flags.userswitch )\n",
    "print( \"suspend   :  %i\" % flags.suspend    )\n",
    "print( \"idle  : %i\"      % flags.idle       )"
   ]
  },
  {
   "cell_type": "code",
   "execution_count": null,
   "metadata": {
    "collapsed": true
   },
   "outputs": [],
   "source": []
  }
 ],
 "metadata": {
  "celltoolbar": "Slideshow",
  "kernelspec": {
   "display_name": "Python 3",
   "language": "python",
   "name": "python3"
  },
  "language_info": {
   "codemirror_mode": {
    "name": "ipython",
    "version": 3
   },
   "file_extension": ".py",
   "mimetype": "text/x-python",
   "name": "python",
   "nbconvert_exporter": "python",
   "pygments_lexer": "ipython3",
   "version": "3.6.0"
  }
 },
 "nbformat": 4,
 "nbformat_minor": 0
}
